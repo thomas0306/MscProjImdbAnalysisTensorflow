{
 "cells": [
  {
   "cell_type": "markdown",
   "metadata": {
    "deletable": true,
    "editable": true
   },
   "source": [
    "# Data preprocessing\n",
    "- We use tensorflow framework to do some initial filtering and transform data into a sparse matrix."
   ]
  },
  {
   "cell_type": "code",
   "execution_count": 1,
   "metadata": {
    "collapsed": true,
    "deletable": true,
    "editable": true
   },
   "outputs": [],
   "source": [
    "import csv\n",
    "import numpy as np\n",
    "import tensorflow as tf\n",
    "from scipy.sparse import coo_matrix"
   ]
  },
  {
   "cell_type": "code",
   "execution_count": 2,
   "metadata": {
    "collapsed": false,
    "deletable": true,
    "editable": true
   },
   "outputs": [],
   "source": [
    "%%time\n",
    "\n",
    "act_at_least = 3\n",
    "\n",
    "# ratings\n",
    "with open('../data_processed/matrix/mat_ratings.csv') as cfs:\n",
    "    reader = csv.reader(cfs)\n",
    "    ratings = list(reader)\n",
    "    \n",
    "t_ratings = tf.constant(ratings)\n",
    "t_ratings = tf.string_to_number(ratings)\n",
    "t_ratings_mask = tf.ones(t_ratings.shape)\n",
    "\n",
    "# actresses\n",
    "with open('../data_processed/matrix/mat_actresses_names.csv', encoding='ISO-8859-1') as cfs:\n",
    "    reader = csv.reader(cfs)\n",
    "    actress_names = list(reader)\n",
    "    actress_names = [name[0] for name in actress_names]\n",
    "t_actress_names = tf.constant(actress_names)\n",
    "\n",
    "actress_loader = np.load('../data_processed/matrix/mat_actresses_actin.npz')\n",
    "t_actress_actin = tf.SparseTensor(\n",
    "    indices=actress_loader['actin_pos'],\n",
    "    values=np.full(len(actress_loader['actin_pos']), 1),\n",
    "    dense_shape=actress_loader['shape']\n",
    ")\n",
    "t_actress_actin = tf.to_float(t_actress_actin)\n",
    "\n",
    "# actors\n",
    "with open('../data_processed/matrix/mat_actors_names.csv', encoding='ISO-8859-1') as cfs:\n",
    "    reader = csv.reader(cfs)\n",
    "    actor_names = list(reader)\n",
    "    actor_names = [name[0] for name in actor_names]\n",
    "t_actor_names = tf.constant(actor_names)\n",
    "\n",
    "actor_loader = np.load('../data_processed/matrix/mat_actors_actin.npz')\n",
    "t_actor_actin = tf.SparseTensor(\n",
    "    indices=actor_loader['actin_pos'],\n",
    "    values=np.full(len(actor_loader['actin_pos']), 1),\n",
    "    dense_shape=actor_loader['shape']\n",
    ")\n",
    "t_actor_actin = tf.to_float(t_actor_actin)\n",
    "\n",
    "t_actin_all_gender = tf.sparse_concat(0, [t_actor_actin, t_actress_actin])\n",
    "t_names_all_gender = tf.concat([t_actor_names, t_actress_names], 0)\n",
    "\n",
    "# count number of movies acted\n",
    "t_count = tf.sparse_tensor_dense_matmul(\n",
    "    t_actin_all_gender,\n",
    "    t_ratings_mask\n",
    ")\n",
    "\n",
    "t_threshold_mask = tf.greater_equal(\n",
    "    t_count,\n",
    "    act_at_least\n",
    ")\n",
    "\n",
    "t_filtered_names = tf.boolean_mask(t_names_all_gender, tf.map_fn(lambda _: _[0], t_threshold_mask))\n",
    "\n",
    "with tf.Session() as sess:\n",
    "    mask_threshold_actors = t_threshold_mask.eval()\n",
    "    sparse_actin = t_actin_all_gender.eval()\n",
    "    names = t_filtered_names.eval()"
   ]
  },
  {
   "cell_type": "code",
   "execution_count": 3,
   "metadata": {
    "collapsed": false,
    "deletable": true,
    "editable": true
   },
   "outputs": [
    {
     "name": "stdout",
     "output_type": "stream",
     "text": [
      "CPU times: user 122 ms, sys: 35.4 ms, total: 158 ms\n",
      "Wall time: 160 ms\n"
     ]
    }
   ],
   "source": [
    "%%time\n",
    "\n",
    "np.savez('../data_processed/filtered_matrix/filtered_names', names=names)"
   ]
  },
  {
   "cell_type": "code",
   "execution_count": 12,
   "metadata": {
    "collapsed": false,
    "deletable": true,
    "editable": true
   },
   "outputs": [],
   "source": [
    "%%time\n",
    "\n",
    "data = sparse_actin.values\n",
    "row = sparse_actin.indices[:, 0]\n",
    "col = sparse_actin.indices[:, 1]\n",
    "shape = sparse_actin.dense_shape\n",
    "dense_matrix = coo_matrix((data, (row, col)), shape=shape, dtype=int).toarray()\n",
    "filtered = dense_matrix[mask_threshold_actors.T[0]]\n",
    "\n",
    "sparse_filtered = coo_matrix(filtered)\n",
    "data = sparse_filtered.data\n",
    "row = sparse_filtered.row\n",
    "col = sparse_filtered.col\n",
    "shape = sparse_filtered.shape\n",
    "np.savez('../data_processed/filtered_matrix/filtered_actin_data_for_clustering', data=data, row=row, col=col, shape=shape)"
   ]
  }
 ],
 "metadata": {
  "kernelspec": {
   "display_name": "Python 3",
   "language": "python",
   "name": "python3"
  },
  "language_info": {
   "codemirror_mode": {
    "name": "ipython",
    "version": 3
   },
   "file_extension": ".py",
   "mimetype": "text/x-python",
   "name": "python",
   "nbconvert_exporter": "python",
   "pygments_lexer": "ipython3",
   "version": "3.5.2"
  }
 },
 "nbformat": 4,
 "nbformat_minor": 2
}
