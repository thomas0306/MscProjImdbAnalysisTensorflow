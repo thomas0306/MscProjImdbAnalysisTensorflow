{
 "cells": [
  {
   "cell_type": "markdown",
   "metadata": {
    "deletable": true,
    "editable": true
   },
   "source": [
    "# Data cleaning\n",
    "We transform string data into matrices:\n",
    "- movie_names matrix\n",
    "- movie_rating matrix\n",
    "- actor/actress names matrix\n",
    "- actor/actress actin boolean matrix"
   ]
  },
  {
   "cell_type": "markdown",
   "metadata": {
    "deletable": true,
    "editable": true
   },
   "source": [
    "## Setup"
   ]
  },
  {
   "cell_type": "markdown",
   "metadata": {
    "deletable": true,
    "editable": true
   },
   "source": [
    "### Import library"
   ]
  },
  {
   "cell_type": "code",
   "execution_count": null,
   "metadata": {
    "collapsed": true,
    "deletable": true,
    "editable": true
   },
   "outputs": [],
   "source": [
    "import numpy as np\n",
    "import re\n",
    "import os"
   ]
  },
  {
   "cell_type": "markdown",
   "metadata": {
    "deletable": true,
    "editable": true
   },
   "source": [
    "### Setup constant"
   ]
  },
  {
   "cell_type": "code",
   "execution_count": null,
   "metadata": {
    "collapsed": true,
    "deletable": true,
    "editable": true
   },
   "outputs": [],
   "source": [
    "pattern = re.compile('\\s{2,}')\n",
    "actor_pattern = re.compile('\\t{1,}')\n",
    "year_in_name_pattern = re.compile('^(?:.+\\()([1-2][0-9]{3})(?:.*\\))(?:\\s\\{.*\\}){0,1}$')\n",
    "min_vote = 1000"
   ]
  },
  {
   "cell_type": "markdown",
   "metadata": {
    "deletable": true,
    "editable": true
   },
   "source": [
    "## Cleaning"
   ]
  },
  {
   "cell_type": "markdown",
   "metadata": {
    "deletable": true,
    "editable": true
   },
   "source": [
    "### Movie and Ratings"
   ]
  },
  {
   "cell_type": "code",
   "execution_count": null,
   "metadata": {
    "collapsed": true,
    "deletable": true,
    "editable": true
   },
   "outputs": [],
   "source": [
    "%%time\n",
    "\n",
    "# movie name and rating matrix\n",
    "movie_names = np.array([], dtype=str)\n",
    "ratings = np.array([], dtype=float)\n",
    "\n",
    "with open('../data_raw/ratings.list', encoding='ISO-8859-1') as fs:\n",
    "    line = fs.readline()\n",
    "    count = 0\n",
    "            \n",
    "    # skip top lines\n",
    "    while line != 'MOVIE RATINGS REPORT\\n':\n",
    "        line = fs.readline()\n",
    "    \n",
    "    for i in range(3):\n",
    "        line = fs.readline()\n",
    "        \n",
    "    while line and line != '\\n':\n",
    "        line = line.strip()\n",
    "        arr = re.split(pattern, line)\n",
    "        \n",
    "        # consider only movies' vote > 1000\n",
    "        # only take in movies\n",
    "        vote_count = int(arr[1])\n",
    "        if vote_count > min_vote and arr[3][0] != \"\\\"\" and arr[3][-1] != \"\\\"\":\n",
    "            count += 1\n",
    "            movie_names = np.append(movie_names, [str(arr[3])])\n",
    "            ratings = np.append(ratings, [float(arr[2])])\n",
    "        \n",
    "        line = fs.readline()\n",
    "\n",
    "np.savetxt('../data_processed/matrix/mat_movie_names.csv', movie_names.T, delimiter=\",\", fmt='\\\"%s\\\"')\n",
    "np.savetxt('../data_processed/matrix/mat_ratings.csv', ratings.T, delimiter=\",\", fmt='%.1f')"
   ]
  },
  {
   "cell_type": "markdown",
   "metadata": {
    "deletable": true,
    "editable": true
   },
   "source": [
    "### Actresses"
   ]
  },
  {
   "cell_type": "code",
   "execution_count": null,
   "metadata": {
    "collapsed": true,
    "deletable": true,
    "editable": true
   },
   "outputs": [],
   "source": [
    "%%time\n",
    "\n",
    "actors = np.array([], dtype=str)\n",
    "actin_pos = np.array([], dtype=int).reshape(0,2)\n",
    "\n",
    "with open('../data_raw/actresses.list', encoding='ISO-8859-1') as fs:\n",
    "    line = fs.readline()\n",
    "    count = 0\n",
    "    \n",
    "    # skip top lines\n",
    "    while line != 'THE ACTRESSES LIST\\n':\n",
    "        line = fs.readline()\n",
    "    \n",
    "    for i in range(5):\n",
    "        line = fs.readline()\n",
    "    \n",
    "    # for each actor\n",
    "    while line != '-----------------------------------------------------------------------------\\n':\n",
    "        arr = re.split(actor_pattern, line)\n",
    "        name = arr[0]\n",
    "        movie = arr[1].strip()\n",
    "        \n",
    "        movies = []\n",
    "        arr = re.split(pattern, movie)\n",
    "        if arr[0][0] != \"\\\"\" and arr[0][-1] != \"\\\"\":\n",
    "            movies.append(arr[0])\n",
    "        line = fs.readline()\n",
    "        # get rest of the movies\n",
    "        while line != '\\n':\n",
    "            line = line.strip()\n",
    "            arr = re.split(pattern, line)\n",
    "            if arr[0][0] != \"\\\"\" and arr[0][-1] != \"\\\"\":\n",
    "                movies.append(arr[0])\n",
    "            line = fs.readline()\n",
    "        \n",
    "        if len(movies) > 0:\n",
    "            mask = np.in1d(movie_names, movies)\n",
    "            actin = np.where(mask == 1)\n",
    "            involved_count = actin[0].shape[0]\n",
    "            if involved_count > 0:\n",
    "                actin_pos = np.append(actin_pos, np.append(\n",
    "                    np.full((1,involved_count), count),\n",
    "                    actin,\n",
    "                    axis=0).T, axis=0)\n",
    "                actors = np.append(actors, [str(name)])\n",
    "                count += 1\n",
    "        line = fs.readline()\n",
    "        \n",
    "print ('writing names...')\n",
    "print ('names length: %d' % len(actors))\n",
    "np.savetxt('../data_processed/matrix/mat_actresses_names.csv', actors.T, delimiter=\",\", fmt='\\\"%s\\\"')\n",
    "print ('writing actin...')\n",
    "np.savez('../data_processed/matrix/mat_actresses_actin', actin_pos=actin_pos, shape=(count, movie_names.shape[0]))"
   ]
  },
  {
   "cell_type": "markdown",
   "metadata": {
    "deletable": true,
    "editable": true
   },
   "source": [
    "### Actors"
   ]
  },
  {
   "cell_type": "code",
   "execution_count": null,
   "metadata": {
    "collapsed": true,
    "deletable": true,
    "editable": true
   },
   "outputs": [],
   "source": [
    "%%time\n",
    "\n",
    "actors = np.array([], dtype=str)\n",
    "\n",
    "actin_pos = np.array([], dtype=int).reshape(0,2)\n",
    "\n",
    "with open('../data_raw/actors.list', encoding='ISO-8859-1') as fs:\n",
    "    line = fs.readline()\n",
    "    count = 0\n",
    "    \n",
    "    # skip top lines\n",
    "    while line != 'THE ACTORS LIST\\n':\n",
    "        line = fs.readline()\n",
    "    \n",
    "    for i in range(5):\n",
    "        line = fs.readline()\n",
    "    \n",
    "    # for each actor\n",
    "    while line != '-----------------------------------------------------------------------------\\n':\n",
    "        arr = re.split(actor_pattern, line)\n",
    "        name = arr[0]\n",
    "        movie = arr[1].strip()\n",
    "        \n",
    "        movies = []\n",
    "        arr = re.split(pattern, movie)\n",
    "        if arr[0][0] != \"\\\"\" and arr[0][-1] != \"\\\"\":\n",
    "            movies.append(arr[0])\n",
    "        line = fs.readline()\n",
    "        # get rest of the movies\n",
    "        while line != '\\n':\n",
    "            line = line.strip()\n",
    "            arr = re.split(pattern, line)\n",
    "            if arr[0][0] != \"\\\"\" and arr[0][-1] != \"\\\"\":\n",
    "                movies.append(arr[0])\n",
    "            line = fs.readline()\n",
    "        \n",
    "        if len(movies) > 0:\n",
    "            mask = np.in1d(movie_names, movies)\n",
    "            actin = np.where(mask == 1)\n",
    "            involved_count = actin[0].shape[0]\n",
    "            if involved_count > 0:\n",
    "                actin_pos = np.append(actin_pos, np.append(\n",
    "                    np.full((1,involved_count), count),\n",
    "                    actin,\n",
    "                    axis=0).T, axis=0)\n",
    "                actors = np.append(actors, [str(name)])\n",
    "                count += 1\n",
    "        line = fs.readline()\n",
    "        \n",
    "print ('writing names...')\n",
    "print ('names length: %d' % len(actors))\n",
    "np.savetxt('../data_processed/matrix/mat_actors_names.csv', actors.T, delimiter=\",\", fmt='\\\"%s\\\"')\n",
    "print ('writing actin...')\n",
    "np.savez('../data_processed/matrix/mat_actors_actin', actin_pos=actin_pos, shape=(count, movie_names.shape[0]))"
   ]
  }
 ],
 "metadata": {
  "kernelspec": {
   "display_name": "Python 3",
   "language": "python",
   "name": "python3"
  },
  "language_info": {
   "codemirror_mode": {
    "name": "ipython",
    "version": 3
   },
   "file_extension": ".py",
   "mimetype": "text/x-python",
   "name": "python",
   "nbconvert_exporter": "python",
   "pygments_lexer": "ipython3",
   "version": "3.5.2"
  }
 },
 "nbformat": 4,
 "nbformat_minor": 2
}
